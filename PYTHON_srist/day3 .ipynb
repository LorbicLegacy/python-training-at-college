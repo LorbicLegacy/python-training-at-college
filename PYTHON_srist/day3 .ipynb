{
 "cells": [
  {
   "cell_type": "markdown",
   "metadata": {},
   "source": [
    "# Installation of Python"
   ]
  },
  {
   "cell_type": "markdown",
   "metadata": {},
   "source": [
    "* Use Anaconda\n",
    "* Use Python Standard Interpreter (www.python.org)\n",
    "* Use Enthought Canopy\n",
    "* Use Visual Studio with Python Development"
   ]
  },
  {
   "cell_type": "code",
   "execution_count": 21,
   "metadata": {},
   "outputs": [
    {
     "name": "stdout",
     "output_type": "stream",
     "text": [
      "Hello 3 1\n",
      "Hello \n",
      "world I am your friend \n",
      "Vikas Patel\n"
     ]
    }
   ],
   "source": [
    "x = 1\n",
    "class name:\n",
    "    x = \\\n",
    "    3\n",
    "    def say(self):\n",
    "        print(\"Hello\",self.x,x)\n",
    "        print(\"\"\"Hello \n",
    "world I am your friend \n",
    "Vikas Patel\"\"\")\n",
    "n = name()\n",
    "n.say()"
   ]
  },
  {
   "cell_type": "markdown",
   "metadata": {},
   "source": [
    "### Points to remember about naming convention"
   ]
  },
  {
   "cell_type": "markdown",
   "metadata": {},
   "source": [
    "* Class name starts with Upper Case letter.\n",
    "ex : Name\n",
    "* All other identifiers start with a lower case letter\n",
    "\n",
    "* identifier starting with  _name is private\n",
    "* identifier starting with \\__name is strongly private\n",
    "* identifier is starting and ending with \\_\\_name\\_\\_ is language defined special name"
   ]
  },
  {
   "cell_type": "code",
   "execution_count": null,
   "metadata": {},
   "outputs": [],
   "source": []
  }
 ],
 "metadata": {
  "kernelspec": {
   "display_name": "Python 3",
   "language": "python",
   "name": "python3"
  },
  "language_info": {
   "codemirror_mode": {
    "name": "ipython",
    "version": 3
   },
   "file_extension": ".py",
   "mimetype": "text/x-python",
   "name": "python",
   "nbconvert_exporter": "python",
   "pygments_lexer": "ipython3",
   "version": "3.7.3"
  }
 },
 "nbformat": 4,
 "nbformat_minor": 2
}
