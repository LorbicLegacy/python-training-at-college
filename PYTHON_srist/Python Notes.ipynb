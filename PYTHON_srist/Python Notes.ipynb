{
 "cells": [
  {
   "cell_type": "markdown",
   "metadata": {},
   "source": [
    "\n",
    "# Python Programming Notes"
   ]
  },
  {
   "cell_type": "markdown",
   "metadata": {},
   "source": [
    "created by __VIKAS PATEL__ @ [www.villageprogrammer.tech](https://www.villageprogrammer.tech)"
   ]
  },
  {
   "cell_type": "markdown",
   "metadata": {},
   "source": [
    "### 1. NUMBERS\n",
    "> * It stores numeric value\n",
    "* Not iterable\n",
    "* Immuteable (Can't be changed)\n",
    "* Types: \n",
    "Integers, Float, Complex"
   ]
  },
  {
   "cell_type": "markdown",
   "metadata": {},
   "source": [
    "__Integer__"
   ]
  },
  {
   "cell_type": "code",
   "execution_count": 1,
   "metadata": {},
   "outputs": [
    {
     "name": "stdout",
     "output_type": "stream",
     "text": [
      "89\n",
      "<class 'int'>\n"
     ]
    }
   ],
   "source": [
    "# example of numbers\n",
    "# integers\n",
    "a = 89\n",
    "print(a)\n",
    "print(type(a))"
   ]
  },
  {
   "cell_type": "markdown",
   "metadata": {},
   "source": [
    "__Float__"
   ]
  },
  {
   "cell_type": "code",
   "execution_count": 2,
   "metadata": {},
   "outputs": [
    {
     "name": "stdout",
     "output_type": "stream",
     "text": [
      "24.546\n",
      "<class 'float'>\n"
     ]
    }
   ],
   "source": [
    "# float\n",
    "b = 24.546\n",
    "print(b)\n",
    "print(type(b))"
   ]
  },
  {
   "cell_type": "markdown",
   "metadata": {},
   "source": [
    "__Complex__"
   ]
  },
  {
   "cell_type": "code",
   "execution_count": 3,
   "metadata": {},
   "outputs": [
    {
     "name": "stdout",
     "output_type": "stream",
     "text": [
      "(12+13j)\n",
      "<class 'complex'>\n"
     ]
    }
   ],
   "source": [
    "# complex\n",
    "# z = a+bj\n",
    "c = 12+13j\n",
    "print(c)\n",
    "print(type(c))"
   ]
  },
  {
   "cell_type": "markdown",
   "metadata": {},
   "source": [
    " * __Sum of the numbers__"
   ]
  },
  {
   "cell_type": "code",
   "execution_count": 4,
   "metadata": {},
   "outputs": [
    {
     "name": "stdout",
     "output_type": "stream",
     "text": [
      "113.54599999999999\n",
      "(24+26j)\n"
     ]
    }
   ],
   "source": [
    "e = a + b\n",
    "print(e)\n",
    "f = c + c\n",
    "print(f)"
   ]
  },
  {
   "cell_type": "markdown",
   "metadata": {},
   "source": [
    "### 2. STRINGS\n",
    ">* Contiguous set of characters\n",
    "* Python allows single or double quote to represent string : _'string here', \"string here\"_\n",
    "* or use __str()__\n",
    "* Supports slicing using INDEX: __string[start:end:step]__\n",
    "\n",
    "__** FEATURES OF STRING **__\n",
    ">* Iterable\n",
    "* Immutable\n",
    "* Sequential\n",
    "* Ordered\n",
    "* Concatenation (+)\n",
    "* Repetition (*)"
   ]
  },
  {
   "cell_type": "code",
   "execution_count": 5,
   "metadata": {},
   "outputs": [
    {
     "name": "stdout",
     "output_type": "stream",
     "text": [
      "Hello World!\n",
      "Hello\n",
      "World!\n",
      "HloWrd\n",
      "HiHi\n",
      "Hello World! Hi\n"
     ]
    }
   ],
   "source": [
    "# create a string\n",
    "s = \"Hello World!\"\n",
    "s1 = \"Hi\"\n",
    "# print\n",
    "print(s) # print\n",
    "# slicing\n",
    "print(s[:5])\n",
    "print(s[6:])\n",
    "print(s[::2])\n",
    "print(2*s1)\n",
    "print(s+\" \"+s1)"
   ]
  },
  {
   "cell_type": "markdown",
   "metadata": {},
   "source": [
    "__Functions of string__"
   ]
  },
  {
   "cell_type": "code",
   "execution_count": 6,
   "metadata": {},
   "outputs": [
    {
     "name": "stdout",
     "output_type": "stream",
     "text": [
      "12\n",
      "<class 'str'>\n"
     ]
    }
   ],
   "source": [
    "# length\n",
    "print(len(s))\n",
    "# type\n",
    "print(type(s))\n"
   ]
  },
  {
   "cell_type": "code",
   "execution_count": 7,
   "metadata": {},
   "outputs": [
    {
     "name": "stdout",
     "output_type": "stream",
     "text": [
      "Swatendra Sir Teaching Python !\n"
     ]
    }
   ],
   "source": [
    "print(\"Swatendra \",end='')\n",
    "print(\"Sir Teaching Python !\")"
   ]
  },
  {
   "cell_type": "markdown",
   "metadata": {},
   "source": [
    "### 3. INDEXING and SLICING\n",
    "< this concept is valid for String, List, Tuple >"
   ]
  },
  {
   "cell_type": "markdown",
   "metadata": {},
   "source": [
    "__Slicing Syntax__\n",
    "\n",
    "object [ start : stop : step ]"
   ]
  },
  {
   "cell_type": "code",
   "execution_count": 8,
   "metadata": {},
   "outputs": [
    {
     "name": "stdout",
     "output_type": "stream",
     "text": [
      "Universe\n",
      "8\n",
      "n\n",
      "Unive\n",
      "e\n",
      "inU\n",
      "Universe\n",
      "esrevi\n",
      "niv\n"
     ]
    }
   ],
   "source": [
    "a = 'Universe'\n",
    "print(a)\n",
    "print(len(a))\n",
    "print(a[1])\n",
    "print(a[0:5])\n",
    "# reverse slicing\n",
    "print(a[-1])\n",
    "print(a[2::-1])\n",
    "print(a[-8::])\n",
    "print(a[7:1:-1])\n",
    "print(a[-7:-4])"
   ]
  },
  {
   "cell_type": "markdown",
   "metadata": {},
   "source": [
    "__Change Case__"
   ]
  },
  {
   "cell_type": "code",
   "execution_count": 9,
   "metadata": {},
   "outputs": [
    {
     "name": "stdout",
     "output_type": "stream",
     "text": [
      "MACHINE LEARNING\n",
      "machine learning\n",
      "Machine Learning\n",
      "Machine learning\n"
     ]
    }
   ],
   "source": [
    "a = 'Machine Learning'\n",
    "# upper \n",
    "print(a.upper())\n",
    "# lower\n",
    "print(a.lower())\n",
    "# title case\n",
    "print(a.title())\n",
    "# nested\n",
    "print(a.upper()[:1]+a.upper()[1:].lower())"
   ]
  },
  {
   "cell_type": "markdown",
   "metadata": {},
   "source": [
    "### 4. DATA TYPE CONVERSION"
   ]
  },
  {
   "cell_type": "markdown",
   "metadata": {},
   "source": [
    "Use these predefined fucnctions to convert one datatype into another\n",
    "\n",
    "##### << all takes one argument >>\n",
    "> * int()\n",
    "* float()\n",
    "* str()\n",
    "* list() \n",
    "* tuple()\n",
    "* dict()\n",
    "* set()\n",
    "* frozenset()"
   ]
  },
  {
   "cell_type": "code",
   "execution_count": 10,
   "metadata": {},
   "outputs": [
    {
     "name": "stdout",
     "output_type": "stream",
     "text": [
      "237\n"
     ]
    }
   ],
   "source": [
    "a = 237\n",
    "print(str(a))"
   ]
  },
  {
   "cell_type": "code",
   "execution_count": 11,
   "metadata": {},
   "outputs": [
    {
     "name": "stdout",
     "output_type": "stream",
     "text": [
      "['1', '2', '3', '4', '5']\n"
     ]
    }
   ],
   "source": [
    "x = 12345\n",
    "print([ str(x)[i] for i in range(len(str(x)))])"
   ]
  },
  {
   "cell_type": "markdown",
   "metadata": {},
   "source": [
    "### 5. User INPUT\n"
   ]
  },
  {
   "cell_type": "code",
   "execution_count": 12,
   "metadata": {},
   "outputs": [
    {
     "name": "stdout",
     "output_type": "stream",
     "text": [
      "Enter 1 2 3 4 5\n"
     ]
    }
   ],
   "source": [
    "x = list(map(int,input(\"Enter \").split()))"
   ]
  },
  {
   "cell_type": "code",
   "execution_count": 13,
   "metadata": {},
   "outputs": [
    {
     "data": {
      "text/plain": [
       "[1, 2, 3, 4, 5]"
      ]
     },
     "execution_count": 13,
     "metadata": {},
     "output_type": "execute_result"
    }
   ],
   "source": [
    "x\n"
   ]
  },
  {
   "cell_type": "code",
   "execution_count": 14,
   "metadata": {},
   "outputs": [
    {
     "name": "stdout",
     "output_type": "stream",
     "text": [
      "enter #1:2\n",
      "enter #2:3\n",
      "5\n"
     ]
    }
   ],
   "source": [
    "# sum program \n",
    "x = int(input(\"enter #1:\"))\n",
    "y = int(input(\"enter #2:\"))\n",
    "print(x+y)"
   ]
  },
  {
   "cell_type": "code",
   "execution_count": 15,
   "metadata": {},
   "outputs": [
    {
     "name": "stdout",
     "output_type": "stream",
     "text": [
      "Enter #s(seperate by space):1 4 3 4 2\n"
     ]
    }
   ],
   "source": [
    "nums = list(map(int,input(\"Enter #s(seperate by space):\").split()))\n"
   ]
  },
  {
   "cell_type": "code",
   "execution_count": 16,
   "metadata": {},
   "outputs": [
    {
     "data": {
      "text/plain": [
       "14"
      ]
     },
     "execution_count": 16,
     "metadata": {},
     "output_type": "execute_result"
    }
   ],
   "source": [
    "sum(nums)"
   ]
  },
  {
   "cell_type": "markdown",
   "metadata": {},
   "source": [
    "### 6. String Builtin Methods\n",
    "used with _str.function()_\n",
    "> * capitalize()\n",
    "* upper()\n",
    "* lower()\n",
    "* title()\n",
    "* isalnum()\n",
    "* islower()\n",
    "* isupper()\n",
    "* count(< char >)\n",
    "* replace(< old >,< new >)\n",
    "* split(< symbol >)\n",
    "\n",
    "used with _function(< str >)_\n",
    "* len()\n",
    "* symbol.join(< str >)"
   ]
  },
  {
   "cell_type": "code",
   "execution_count": 17,
   "metadata": {},
   "outputs": [
    {
     "name": "stdout",
     "output_type": "stream",
     "text": [
      "V-i-k-a-s-P-a-t-e-l\n",
      "v12345p\n"
     ]
    }
   ],
   "source": [
    "# join example\n",
    "a = '-'\n",
    "b = \"VikasPatel\"\n",
    "print(a.join(b))\n",
    "x = '12345'\n",
    "y = 'vp'\n",
    "print(x.join(y))"
   ]
  },
  {
   "cell_type": "markdown",
   "metadata": {},
   "source": [
    "### 7.  String Formatting  \n",
    "> * %d : decimal\n",
    "* %s : string\n",
    "* %f : float\n"
   ]
  },
  {
   "cell_type": "code",
   "execution_count": 18,
   "metadata": {},
   "outputs": [
    {
     "name": "stdout",
     "output_type": "stream",
     "text": [
      "The Values are a = 12 and b = 23\n"
     ]
    }
   ],
   "source": [
    "# example\n",
    "a = 12\n",
    "b = 23\n",
    "print(\"The Values are a = %d and b = %d\"%(a,b))"
   ]
  },
  {
   "cell_type": "markdown",
   "metadata": {},
   "source": [
    "#### the ways are:\n"
   ]
  },
  {
   "cell_type": "code",
   "execution_count": 19,
   "metadata": {
    "scrolled": false
   },
   "outputs": [
    {
     "name": "stdout",
     "output_type": "stream",
     "text": [
      "The values are 12 23\n",
      "The values are 12 and 23\n",
      "The Values are 12 and 23\n",
      "The values are 12 and 23\n",
      "The values are 12 and 23\n"
     ]
    }
   ],
   "source": [
    "print(\"The values are\",a,b) #1\n",
    "print(\"The values are\",a,\"and\",b) #2\n",
    "print(\"The Values are %d and %d\"%(a,b)) #3\n",
    "print(f\"The values are {a} and {b}\") #4\n",
    "print(\"The values are {} and {}\".format(a,b)) #5"
   ]
  },
  {
   "cell_type": "markdown",
   "metadata": {},
   "source": [
    "##### Interactive Test Code "
   ]
  },
  {
   "cell_type": "code",
   "execution_count": 20,
   "metadata": {
    "scrolled": true
   },
   "outputs": [
    {
     "name": "stdout",
     "output_type": "stream",
     "text": [
      "Enter Your Name:Vikas\n",
      "Country:India\n",
      "Language:English\n",
      "\n",
      "Hi, Vikas you are from India and you speak English.\n"
     ]
    }
   ],
   "source": [
    "n = input(\"Enter Your Name:\")\n",
    "na = input(\"Country:\")\n",
    "l = input(\"Language:\")\n",
    "print()\n",
    "print(\"Hi, {} you are from {} and you speak {}.\".format(n,na,l))"
   ]
  },
  {
   "cell_type": "markdown",
   "metadata": {},
   "source": [
    "#  INTENTIONALLY LEFT BLANK \n",
    "# TO BE FILLED SOON\n"
   ]
  },
  {
   "cell_type": "code",
   "execution_count": 21,
   "metadata": {},
   "outputs": [],
   "source": [
    "s = set(range(1,11))"
   ]
  },
  {
   "cell_type": "markdown",
   "metadata": {},
   "source": [
    "# Qustions "
   ]
  },
  {
   "cell_type": "markdown",
   "metadata": {},
   "source": [
    "### 1. multiple of 7 but not of 5 in range 2000 to 3200"
   ]
  },
  {
   "cell_type": "code",
   "execution_count": 22,
   "metadata": {},
   "outputs": [
    {
     "name": "stdout",
     "output_type": "stream",
     "text": [
      "2002, 2009, 2016, 2023, 2037, 2044, 2051, 2058, 2072, 2079, 2086, 2093, 2107, 2114, 2121, 2128, 2142, 2149, 2156, 2163, 2177, 2184, 2191, 2198, 2212, 2219, 2226, 2233, 2247, 2254, 2261, 2268, 2282, 2289, 2296, 2303, 2317, 2324, 2331, 2338, 2352, 2359, 2366, 2373, 2387, 2394, 2401, 2408, 2422, 2429, 2436, 2443, 2457, 2464, 2471, 2478, 2492, 2499, 2506, 2513, 2527, 2534, 2541, 2548, 2562, 2569, 2576, 2583, 2597, 2604, 2611, 2618, 2632, 2639, 2646, 2653, 2667, 2674, 2681, 2688, 2702, 2709, 2716, 2723, 2737, 2744, 2751, 2758, 2772, 2779, 2786, 2793, 2807, 2814, 2821, 2828, 2842, 2849, 2856, 2863, 2877, 2884, 2891, 2898, 2912, 2919, 2926, 2933, 2947, 2954, 2961, 2968, 2982, 2989, 2996, 3003, 3017, 3024, 3031, 3038, 3052, 3059, 3066, 3073, 3087, 3094, 3101, 3108, 3122, 3129, 3136, 3143, 3157, 3164, 3171, 3178, 3192, 3199, "
     ]
    }
   ],
   "source": [
    "# use this one \n",
    "for i in range(2000,3201):\n",
    "    if(i%7 == 0 and i%5 != 0):\n",
    "        print(i,end=', ')\n"
   ]
  },
  {
   "cell_type": "code",
   "execution_count": 23,
   "metadata": {},
   "outputs": [
    {
     "name": "stdout",
     "output_type": "stream",
     "text": [
      "[2002, 2009, 2016, 2023, 2037, 2044, 2051, 2058, 2072, 2079, 2086, 2093, 2107, 2114, 2121, 2128, 2142, 2149, 2156, 2163, 2177, 2184, 2191, 2198, 2212, 2219, 2226, 2233, 2247, 2254, 2261, 2268, 2282, 2289, 2296, 2303, 2317, 2324, 2331, 2338, 2352, 2359, 2366, 2373, 2387, 2394, 2401, 2408, 2422, 2429, 2436, 2443, 2457, 2464, 2471, 2478, 2492, 2499, 2506, 2513, 2527, 2534, 2541, 2548, 2562, 2569, 2576, 2583, 2597, 2604, 2611, 2618, 2632, 2639, 2646, 2653, 2667, 2674, 2681, 2688, 2702, 2709, 2716, 2723, 2737, 2744, 2751, 2758, 2772, 2779, 2786, 2793, 2807, 2814, 2821, 2828, 2842, 2849, 2856, 2863, 2877, 2884, 2891, 2898, 2912, 2919, 2926, 2933, 2947, 2954, 2961, 2968, 2982, 2989, 2996, 3003, 3017, 3024, 3031, 3038, 3052, 3059, 3066, 3073, 3087, 3094, 3101, 3108, 3122, 3129, 3136, 3143, 3157, 3164, 3171, 3178, 3192, 3199]\n"
     ]
    }
   ],
   "source": [
    "# or use this one\n",
    "print([i for i in range(2000,3201) if i%7==0 and i%5!=0])"
   ]
  },
  {
   "cell_type": "code",
   "execution_count": 24,
   "metadata": {},
   "outputs": [
    {
     "name": "stdout",
     "output_type": "stream",
     "text": [
      "2002, 2009, 2016, 2023, 2037, 2044, 2051, 2058, 2072, 2079, 2086, 2093, 2107, 2114, 2121, 2128, 2142, 2149, 2156, 2163, 2177, 2184, 2191, 2198, 2212, 2219, 2226, 2233, 2247, 2254, 2261, 2268, 2282, 2289, 2296, 2303, 2317, 2324, 2331, 2338, 2352, 2359, 2366, 2373, 2387, 2394, 2401, 2408, 2422, 2429, 2436, 2443, 2457, 2464, 2471, 2478, 2492, 2499, 2506, 2513, 2527, 2534, 2541, 2548, 2562, 2569, 2576, 2583, 2597, 2604, 2611, 2618, 2632, 2639, 2646, 2653, 2667, 2674, 2681, 2688, 2702, 2709, 2716, 2723, 2737, 2744, 2751, 2758, 2772, 2779, 2786, 2793, 2807, 2814, 2821, 2828, 2842, 2849, 2856, 2863, 2877, 2884, 2891, 2898, 2912, 2919, 2926, 2933, 2947, 2954, 2961, 2968, 2982, 2989, 2996, 3003, 3017, 3024, 3031, 3038, 3052, 3059, 3066, 3073, 3087, 3094, 3101, 3108, 3122, 3129, 3136, 3143, 3157, 3164, 3171, 3178, 3192, 3199\n"
     ]
    }
   ],
   "source": [
    "# or even this one\n",
    "print(\", \".join(str(i) for i in range(2000,3201) if i%7==0 and i%5!= 0))"
   ]
  },
  {
   "cell_type": "code",
   "execution_count": 25,
   "metadata": {},
   "outputs": [
    {
     "name": "stdout",
     "output_type": "stream",
     "text": [
      "2002, 2009, 2016, 2023, 2037, 2044, 2051, 2058, 2072, 2079, 2086, 2093, 2107, 2114, 2121, 2128, 2142, 2149, 2156, 2163, 2177, 2184, 2191, 2198, 2212, 2219, 2226, 2233, 2247, 2254, 2261, 2268, 2282, 2289, 2296, 2303, 2317, 2324, 2331, 2338, 2352, 2359, 2366, 2373, 2387, 2394, 2401, 2408, 2422, 2429, 2436, 2443, 2457, 2464, 2471, 2478, 2492, 2499, 2506, 2513, 2527, 2534, 2541, 2548, 2562, 2569, 2576, 2583, 2597, 2604, 2611, 2618, 2632, 2639, 2646, 2653, 2667, 2674, 2681, 2688, 2702, 2709, 2716, 2723, 2737, 2744, 2751, 2758, 2772, 2779, 2786, 2793, 2807, 2814, 2821, 2828, 2842, 2849, 2856, 2863, 2877, 2884, 2891, 2898, 2912, 2919, 2926, 2933, 2947, 2954, 2961, 2968, 2982, 2989, 2996, 3003, 3017, 3024, 3031, 3038, 3052, 3059, 3066, 3073, 3087, 3094, 3101, 3108, 3122, 3129, 3136, 3143, 3157, 3164, 3171, 3178, 3192, 3199, "
     ]
    }
   ],
   "source": [
    "# or even this one \n",
    "for i in range(2000,3201):\n",
    "    if i%5 != 0:\n",
    "        if i%7 == 0:\n",
    "            print(i,end=', ')"
   ]
  },
  {
   "cell_type": "markdown",
   "metadata": {},
   "source": [
    "### 2. swap two numbers"
   ]
  },
  {
   "cell_type": "code",
   "execution_count": 26,
   "metadata": {},
   "outputs": [
    {
     "name": "stdout",
     "output_type": "stream",
     "text": [
      "1: 342\n",
      "2: 234\n",
      "1: 342 2: 234\n",
      "1: 234 2: 342\n"
     ]
    }
   ],
   "source": [
    "x = int(input(\"1: \"))\n",
    "y = int(input(\"2: \"))\n",
    "print(\"1:\",x,\"2:\",y)\n",
    "x , y = y,x\n",
    "print(\"1:\",x,\"2:\",y)\n",
    "\n"
   ]
  },
  {
   "cell_type": "markdown",
   "metadata": {},
   "source": [
    "### 3. swap 1st and last elements of list"
   ]
  },
  {
   "cell_type": "code",
   "execution_count": 27,
   "metadata": {},
   "outputs": [
    {
     "name": "stdout",
     "output_type": "stream",
     "text": [
      "1 10\n",
      "10 1\n"
     ]
    }
   ],
   "source": [
    "l = list(range(1,11))\n",
    "\n",
    "print(l[0],l[-1])\n",
    "\n",
    "l[0] , l[-1] = l[-1], l[0]\n",
    "\n",
    "print(l[0],l[-1])\n"
   ]
  },
  {
   "cell_type": "markdown",
   "metadata": {},
   "source": [
    "### 4. reverse a string "
   ]
  },
  {
   "cell_type": "code",
   "execution_count": 28,
   "metadata": {
    "scrolled": true
   },
   "outputs": [
    {
     "name": "stdout",
     "output_type": "stream",
     "text": [
      "String ?:vikas\n",
      "reverse = sakiv\n"
     ]
    }
   ],
   "source": [
    "s = input(\"String ?:\")\n",
    "print(\"reverse =\",s[::-1])"
   ]
  },
  {
   "cell_type": "markdown",
   "metadata": {},
   "source": [
    "### 5. print 1 to 30 even and odd numbers "
   ]
  },
  {
   "cell_type": "code",
   "execution_count": 29,
   "metadata": {},
   "outputs": [
    {
     "name": "stdout",
     "output_type": "stream",
     "text": [
      "even [2, 4, 6, 8, 10, 12, 14, 16, 18, 20, 22, 24, 26, 28, 30]\n",
      "odd [1, 3, 5, 7, 9, 11, 13, 15, 17, 19, 21, 23, 25, 27, 29]\n"
     ]
    }
   ],
   "source": [
    "# use this one\n",
    "e = []\n",
    "o = []\n",
    "for i in range(1,31):\n",
    "    if i%2 == 0:\n",
    "        e.append(i)\n",
    "    elif i%2!=0:\n",
    "        o.append(i)\n",
    "print(\"even\",repr(e))\n",
    "print(\"odd\",repr(o))"
   ]
  },
  {
   "cell_type": "code",
   "execution_count": 30,
   "metadata": {},
   "outputs": [
    {
     "name": "stdout",
     "output_type": "stream",
     "text": [
      "2, 4, 6, 8, 10, 12, 14, 16, 18, 20, 22, 24, 26, 28, 30, \n",
      "1, 3, 5, 7, 9, 11, 13, 15, 17, 19, 21, 23, 25, 27, 29, "
     ]
    }
   ],
   "source": [
    "# or use this one\n",
    "# even\n",
    "n = 1\n",
    "while(n<=30):\n",
    "    if(n%2==0):\n",
    "        print(n,end=', ')\n",
    "    n += 1\n",
    "    \n",
    "# odd\n",
    "print()\n",
    "n = 1\n",
    "while(n<=30):\n",
    "    if(n%2!=0):\n",
    "        print(n,end=', ')\n",
    "    n += 1"
   ]
  },
  {
   "cell_type": "markdown",
   "metadata": {},
   "source": [
    "### 6. factorial of a number"
   ]
  },
  {
   "cell_type": "code",
   "execution_count": 31,
   "metadata": {},
   "outputs": [
    {
     "name": "stdout",
     "output_type": "stream",
     "text": [
      "Number ?:7\n",
      "factorial = 5040\n"
     ]
    }
   ],
   "source": [
    "n = int(input(\"Number ?:\"))\n",
    "f = 1\n",
    "for i in range(1,n+1):\n",
    "    f = f*i\n",
    "print(\"factorial =\",f)"
   ]
  },
  {
   "cell_type": "markdown",
   "metadata": {},
   "source": [
    "\n",
    "##### use of break, continue, break "
   ]
  },
  {
   "cell_type": "code",
   "execution_count": 32,
   "metadata": {
    "collapsed": true
   },
   "outputs": [
    {
     "name": "stdout",
     "output_type": "stream",
     "text": [
      "1\n",
      "2\n",
      "3\n",
      "4\n",
      "1\n",
      "2\n",
      "3\n",
      "4\n",
      "6\n",
      "7\n",
      "8\n",
      "9\n",
      "10\n"
     ]
    }
   ],
   "source": [
    "for i in range(1,11):\n",
    "    if i==5:\n",
    "        break\n",
    "    print(i)\n",
    "    \n",
    "for i in range(1,11):\n",
    "    if i==5:\n",
    "        continue\n",
    "    print(i)\n",
    "    \n",
    "def go():\n",
    "    pass"
   ]
  },
  {
   "cell_type": "markdown",
   "metadata": {},
   "source": [
    "# Questions (22/01/2020)"
   ]
  },
  {
   "cell_type": "markdown",
   "metadata": {},
   "source": [
    "1. calculate the average of the numbers in a list [Here](#1.)\n",
    "2. exchange the value of two numbers w/o using temp [Here](#2.)\n",
    "3. to read a number N and compute N+NN+NNN+NNNN... (power is increased) [Here](#3.)\n",
    "4. wap to take marks of 5 subjects and display the grade [Here](#4.)\n",
    "5. wap to print all numbers in a range divisible by a given number [Here](#5.)\n",
    "6. wap to accept 3 digits and print all possible combinations from the digits [Here](#6.)\n",
    "7. find the sum of digits in a number [Here](#7.)\n",
    "8. find the smallest divisor of an integer [Here](#8.)\n",
    "9. count the number of digits in a number [Here](#9.)\n",
    "10. wap to check if a date is valid and print the incrementing date if it is [Here](#10.)\n",
    "11. wap to compute SI given all the required values [Here](#11.)\n",
    "12. check wheather a given year is leap or not [Here](#12.)\n",
    "13. wap to read height in CM and then convert it into FEET and INCHES [Here](#13.)\n",
    "14. to take the TEMPERATURE in C and convert into F [Here](#14.)\n",
    "15. wap to find prime factor of an integer [Here](#15.)\n",
    "16. wap to generate all the divisors of an integer [Here](#16.)\n",
    "17. wap to print table of a given number [Here](#17.)\n",
    "18. wap to print SUM of negative numbers, POSITIVE EVEN numbers and POSITIVE ODD numbers in a list [Here](#18.)\n",
    "19. wap to print largest EVEN and largest ODD number in a list [Here](#19.)\n",
    "20. wap to check if a number is an ARMSTRONG number [Here](#20.)\n",
    "\n"
   ]
  },
  {
   "cell_type": "markdown",
   "metadata": {},
   "source": [
    "#  SOLUTION\n",
    "questions are here [Questions](#Questions-(22/01/2020))"
   ]
  },
  {
   "cell_type": "markdown",
   "metadata": {},
   "source": [
    "### 1. "
   ]
  },
  {
   "cell_type": "code",
   "execution_count": 33,
   "metadata": {},
   "outputs": [
    {
     "name": "stdout",
     "output_type": "stream",
     "text": [
      "5.5\n"
     ]
    }
   ],
   "source": [
    "# 1. calculate the average of the numbers in a list\n",
    "n = list(range(1,11)) \n",
    "print(sum(l)/len(l))"
   ]
  },
  {
   "cell_type": "markdown",
   "metadata": {},
   "source": [
    "### 2. "
   ]
  },
  {
   "cell_type": "code",
   "execution_count": 34,
   "metadata": {},
   "outputs": [
    {
     "name": "stdout",
     "output_type": "stream",
     "text": [
      "1:123\n",
      "2:543\n",
      "1: 123 \n",
      "2: 543\n",
      "1: 543 \n",
      "2: 123\n"
     ]
    }
   ],
   "source": [
    "# 2. exchange the value of two numbers w/o using temp\n",
    "a = int(input(\"1:\"))\n",
    "b = int(input(\"2:\"))\n",
    "print(\"1:\",a,\"\\n2:\",b)\n",
    "a = a + b\n",
    "b = a - b\n",
    "a = a - b\n",
    "print(\"1:\",a,\"\\n2:\",b)\n"
   ]
  },
  {
   "cell_type": "markdown",
   "metadata": {},
   "source": [
    "### 3. "
   ]
  },
  {
   "cell_type": "code",
   "execution_count": 35,
   "metadata": {},
   "outputs": [
    {
     "name": "stdout",
     "output_type": "stream",
     "text": [
      "N?:5\n",
      "sum = 3905\n"
     ]
    }
   ],
   "source": [
    "# 3. to read a number N and compute N+NN+NNN+NNNN... (power is increased)\n",
    "n = int(input(\"N?:\"))\n",
    "sm, prod = 0, 1\n",
    "for i in range(1,n+1):\n",
    "    prod = prod * n\n",
    "    sm = sm + prod\n",
    "print(\"sum =\",sm)"
   ]
  },
  {
   "cell_type": "markdown",
   "metadata": {},
   "source": [
    "### 4. "
   ]
  },
  {
   "cell_type": "code",
   "execution_count": 36,
   "metadata": {},
   "outputs": [
    {
     "name": "stdout",
     "output_type": "stream",
     "text": [
      "Enter 5 numbers:50 60 40 76 54\n",
      "You got C\n"
     ]
    }
   ],
   "source": [
    "# 4. wap to take marks of 5 subjects and display the grade\n",
    "n = input(\"Enter 5 numbers:\").split()\n",
    "n = list(map(int,n))\n",
    "sm = sum(n)\n",
    "avg = sm/5\n",
    "if avg < float(33):\n",
    "    print(\"You have failed.\\nDo more study.\")\n",
    "elif avg <= 60:\n",
    "    print(\"You got C\")\n",
    "elif avg <= 70:\n",
    "    print(\"You got B\")\n",
    "elif avg <= 80:\n",
    "    print(\"You got A\")\n",
    "elif avg > 80:\n",
    "    print(\"You got A+\")"
   ]
  },
  {
   "cell_type": "markdown",
   "metadata": {},
   "source": [
    "### 5."
   ]
  },
  {
   "cell_type": "code",
   "execution_count": 39,
   "metadata": {
    "scrolled": true
   },
   "outputs": [
    {
     "name": "stdout",
     "output_type": "stream",
     "text": [
      "Enter range(start end):6 34\n",
      "Enter Number:5\n",
      "10\n",
      "15\n",
      "20\n",
      "25\n",
      "30\n"
     ]
    }
   ],
   "source": [
    "# 5. wap to print all numbers in a range  divisible by a given number\n",
    "r = list(map(int,input(\"Enter range(start end):\").split()))\n",
    "n = int(input(\"Enter Number:\"))\n",
    "d = []\n",
    "for i in range(r[0],r[1]+1):\n",
    "    if(i%n==0):\n",
    "        print(i)"
   ]
  },
  {
   "cell_type": "markdown",
   "metadata": {},
   "source": [
    "# 6. Needed to be solved"
   ]
  },
  {
   "cell_type": "markdown",
   "metadata": {},
   "source": [
    "### 6."
   ]
  },
  {
   "cell_type": "code",
   "execution_count": null,
   "metadata": {},
   "outputs": [],
   "source": [
    "#6. wap to accept 3 digits and print all possible combinations from the digits\n",
    "n1 = int(input(\"Enter #1:\"))\n",
    "n2 = int(input(\"Enter #2:\"))\n",
    "n3 = int(input(\"Enter #3:\"))\n",
    "n = list([n1,n2,n3])\n",
    "print(\"Combinations are\\n\")\n",
    "for i in range(3):\n",
    "    k = 0\n",
    "    for j  in range(3):\n",
    "        print(n[i],n[j],n[k])\n",
    "        k = k + 1\n",
    "        "
   ]
  },
  {
   "cell_type": "markdown",
   "metadata": {},
   "source": [
    "### 7."
   ]
  },
  {
   "cell_type": "code",
   "execution_count": 40,
   "metadata": {},
   "outputs": [
    {
     "name": "stdout",
     "output_type": "stream",
     "text": [
      "Number?:12534\n",
      "Sum of digits = 15\n"
     ]
    }
   ],
   "source": [
    "# 7. find the sum of digits in a number \n",
    "n = int(input(\"Number?:\"))\n",
    "sm, tp = 0, n\n",
    "while n > 0:\n",
    "    dgt = n%10\n",
    "    sm = sm + dgt\n",
    "    n = n//10\n",
    "    \n",
    "print(\"Sum of digits =\",sm)"
   ]
  },
  {
   "cell_type": "markdown",
   "metadata": {},
   "source": [
    "### 8."
   ]
  },
  {
   "cell_type": "code",
   "execution_count": 42,
   "metadata": {},
   "outputs": [
    {
     "name": "stdout",
     "output_type": "stream",
     "text": [
      "Number?:4345\n",
      "5\n"
     ]
    }
   ],
   "source": [
    "# 8. find the smallest divisor of an integer\n",
    "n = int(input(\"Number?:\"))\n",
    "div = []\n",
    "for i in range(2,n+1):\n",
    "    if n%i==0:\n",
    "        div.append(i)\n",
    "print(min(div))\n",
    "    "
   ]
  },
  {
   "cell_type": "markdown",
   "metadata": {},
   "source": [
    "### 9."
   ]
  },
  {
   "cell_type": "code",
   "execution_count": 43,
   "metadata": {},
   "outputs": [
    {
     "name": "stdout",
     "output_type": "stream",
     "text": [
      "Number?:34265\n",
      "Number of Digits = 5\n"
     ]
    }
   ],
   "source": [
    "# 9. count the number of digits in a number\n",
    "n = int(input(\"Number?:\"))\n",
    "count, tp = 0, n\n",
    "while n > 0:\n",
    "    dgt = n%10\n",
    "    count = count + 1\n",
    "    n = n//10\n",
    "print(f\"Number of Digits = {count}\")"
   ]
  },
  {
   "cell_type": "markdown",
   "metadata": {},
   "source": [
    "### 10.  "
   ]
  },
  {
   "cell_type": "code",
   "execution_count": 44,
   "metadata": {},
   "outputs": [
    {
     "name": "stdout",
     "output_type": "stream",
     "text": [
      "Enter date (DD/MM/YYYY)23/01/2010\n",
      "{'01': '31', '02': '28', '03': '31', '04': '30', '05': '31', '06': '30', '07': '31', '08': '31', '09': '30', '10': '31', '11': '30', '12': '31'}\n",
      "23 01 2010\n"
     ]
    }
   ],
   "source": [
    "# 10. wap to check if a date is valid and print the incrementing date if it is\n",
    "test  = \"01 02 03 04 05 06 07 08 09 10 11 12\"\n",
    "days = \"31 28 31 30 31 30 31 31 30 31 30 31\"\n",
    "mn, dys = list(test.split()), list(days.split())\n",
    "mnts = dict(zip(mn,dys))\n",
    "date = input(\"Enter date (DD/MM/YYYY)\").split('/')\n",
    "dd, mm, yyyy = date[0], date[1], date[2]\n",
    "print(mnts)\n",
    "print(dd,mm,yyyy)\n",
    "\n",
    "# print('/'.join(i for i in date))"
   ]
  },
  {
   "cell_type": "markdown",
   "metadata": {},
   "source": [
    "### 11. "
   ]
  },
  {
   "cell_type": "code",
   "execution_count": 45,
   "metadata": {},
   "outputs": [
    {
     "name": "stdout",
     "output_type": "stream",
     "text": [
      "Enter Principle 2000\n",
      "Enter Rate 10\n",
      "Enter Time(years) 5\n",
      "Simple Interest = 1000.0\n"
     ]
    }
   ],
   "source": [
    "# 11. wap to compute SI given all the required values\n",
    "p = float(input(\"Enter Principle \"))\n",
    "r = float(input(\"Enter Rate \"))\n",
    "t = float(input(\"Enter Time(years) \"))\n",
    "si = float(p*r*t)/100\n",
    "print(\"Simple Interest =\",si)"
   ]
  },
  {
   "cell_type": "markdown",
   "metadata": {},
   "source": [
    "### 12."
   ]
  },
  {
   "cell_type": "code",
   "execution_count": 46,
   "metadata": {},
   "outputs": [
    {
     "name": "stdout",
     "output_type": "stream",
     "text": [
      "Enter Year?:2020\n",
      "Leap Year\n"
     ]
    }
   ],
   "source": [
    "# 12. check wheather a given year is leap or not\n",
    "yr = int(input(\"Enter Year?:\"))\n",
    "if yr%100==0:\n",
    "    if yr%400==0:\n",
    "        print(\"Leap Year\")\n",
    "    else:\n",
    "        print(\"Not a leap Year\")\n",
    "elif yr%4==0:\n",
    "    print(\"Leap Year\")\n",
    "else:\n",
    "    print(\"Not a leap Year\")"
   ]
  },
  {
   "cell_type": "markdown",
   "metadata": {},
   "source": [
    "### 13. "
   ]
  },
  {
   "cell_type": "code",
   "execution_count": 47,
   "metadata": {},
   "outputs": [
    {
     "name": "stdout",
     "output_type": "stream",
     "text": [
      "Enter height in CM: 24\n",
      "Height in FEET:= 0.8 feet\n",
      "Height in INCHES:= 9.448818897637794 inches\n"
     ]
    }
   ],
   "source": [
    "# 13. wap to read height in CM and then convert it into FEET and INCHES\n",
    "h = int(input(\"Enter height in CM: \"))\n",
    "f = h/30\n",
    "i = h/2.54\n",
    "print(\"Height in FEET:=\",f,\"feet\")\n",
    "print(\"Height in INCHES:=\",i,\"inches\")"
   ]
  },
  {
   "cell_type": "markdown",
   "metadata": {},
   "source": [
    "### 14. "
   ]
  },
  {
   "cell_type": "code",
   "execution_count": 48,
   "metadata": {},
   "outputs": [
    {
     "name": "stdout",
     "output_type": "stream",
     "text": [
      "Enter Temperature in Celcius: 23\n",
      "Temperature in Fareheit:= 73.4\n"
     ]
    }
   ],
   "source": [
    "# 14. to take the TEMPERATURE in C and convert into F\n",
    "c = int(input(\"Enter Temperature in Celcius: \"))\n",
    "f = (c* 9/5) + 32\n",
    "print(\"Temperature in Fareheit:=\",f)"
   ]
  },
  {
   "cell_type": "markdown",
   "metadata": {},
   "source": [
    "### 15."
   ]
  },
  {
   "cell_type": "code",
   "execution_count": 49,
   "metadata": {},
   "outputs": [],
   "source": [
    "def is_prime(num):\n",
    "    p = 0\n",
    "    for i in range(1,num+1):\n",
    "        if num%i==0:\n",
    "            p = p + 1\n",
    "    if p==2:\n",
    "        return True\n",
    "    return False"
   ]
  },
  {
   "cell_type": "code",
   "execution_count": 51,
   "metadata": {},
   "outputs": [
    {
     "name": "stdout",
     "output_type": "stream",
     "text": [
      "Enter Number?: 65\n",
      "All the factors of 65 are [5, 13, 65]\n",
      "All the prime factors of 65 are [5, 13]\n"
     ]
    }
   ],
   "source": [
    "# 15. wap to find prime factor of an integer\n",
    "n = int(input(\"Enter Number?: \"))\n",
    "div = []\n",
    "for i in range(2,n+1):\n",
    "    if n%i==0:\n",
    "        div.append(i)\n",
    "fac = []\n",
    "for d in div:\n",
    "    if is_prime(d):\n",
    "        fac.append(d)\n",
    "\n",
    "print(f\"All the factors of {n} are {div}\") \n",
    "print(f\"All the prime factors of {n} are {fac}\") \n",
    "    \n"
   ]
  },
  {
   "cell_type": "code",
   "execution_count": null,
   "metadata": {},
   "outputs": [],
   "source": [
    "# is_prime(2) # test"
   ]
  },
  {
   "cell_type": "markdown",
   "metadata": {},
   "source": [
    "### 16."
   ]
  },
  {
   "cell_type": "code",
   "execution_count": 52,
   "metadata": {},
   "outputs": [
    {
     "name": "stdout",
     "output_type": "stream",
     "text": [
      "Enter Number?: 76\n",
      "All the divisors of 76 are [2, 4, 19, 38, 76]\n"
     ]
    }
   ],
   "source": [
    "# wap to generate all the divisors of an integer\n",
    "n = int(input(\"Enter Number?: \"))\n",
    "div = []\n",
    "for i in range(2,n+1):\n",
    "    if n%i==0:\n",
    "        div.append(i)\n",
    "\n",
    "print(f\"All the divisors of {n} are {div}\")"
   ]
  },
  {
   "cell_type": "markdown",
   "metadata": {},
   "source": [
    "### 17."
   ]
  },
  {
   "cell_type": "code",
   "execution_count": 53,
   "metadata": {
    "scrolled": true
   },
   "outputs": [
    {
     "name": "stdout",
     "output_type": "stream",
     "text": [
      "Number?: 2\n",
      "2 x 1 = 2\n",
      "2 x 2 = 4\n",
      "2 x 3 = 6\n",
      "2 x 4 = 8\n",
      "2 x 5 = 10\n",
      "2 x 6 = 12\n",
      "2 x 7 = 14\n",
      "2 x 8 = 16\n",
      "2 x 9 = 18\n",
      "2 x 10 = 20\n",
      "2 x 11 = 22\n",
      "2 x 12 = 24\n"
     ]
    }
   ],
   "source": [
    "# wap to print table of a given number\n",
    "n = int(input(\"Number?: \"))\n",
    "for i in range(1,13):\n",
    "    print(f\"{n} x {i} = {n*i}\")"
   ]
  },
  {
   "cell_type": "markdown",
   "metadata": {},
   "source": [
    "### 18."
   ]
  },
  {
   "cell_type": "code",
   "execution_count": 54,
   "metadata": {
    "scrolled": true
   },
   "outputs": [
    {
     "name": "stdout",
     "output_type": "stream",
     "text": [
      "Enter numbers(split by space): 1 2 -1 54 33 -65\n",
      "Sum of negative numbers = -66\n",
      "Sum of even positive numbers = 56\n",
      "Sum of odd positive numbers = 34\n"
     ]
    }
   ],
   "source": [
    "# wap to print SUM of negative numbers, POSITIVE EVEN numbers and POSITIVE ODD numbers in a list\n",
    "n = list(map(int,input(\"Enter numbers(split by space): \").split()))\n",
    "neg = even = odd = 0\n",
    "for i in n:\n",
    "    if i<0:\n",
    "        neg = neg + i\n",
    "    elif i%2==0:\n",
    "        even = even + i\n",
    "    elif i%2!=0:\n",
    "        odd = odd + i\n",
    "\n",
    "print(\"Sum of negative numbers =\",neg)\n",
    "print(\"Sum of even positive numbers =\",even)\n",
    "print(\"Sum of odd positive numbers =\",odd)"
   ]
  },
  {
   "cell_type": "markdown",
   "metadata": {},
   "source": [
    "### 19."
   ]
  },
  {
   "cell_type": "code",
   "execution_count": 55,
   "metadata": {},
   "outputs": [
    {
     "name": "stdout",
     "output_type": "stream",
     "text": [
      "Enter numbers(split by space): 1 5 2 55 34 77 88\n",
      "even max 88\n",
      "odd max 77\n"
     ]
    }
   ],
   "source": [
    "# wap to print largest EVEN and largest ODD number in a list\n",
    "n = list(map(int,input(\"Enter numbers(split by space): \").split()))\n",
    "\n",
    "def even_odd(n):\n",
    "    e = []\n",
    "    o = []\n",
    "    for i in n:\n",
    "        if i%2==0:\n",
    "            e.append(i)\n",
    "        if i%2!=0:\n",
    "            o.append(i)   \n",
    "    return e,o\n",
    "\n",
    "# print(even_odd(n)) # test\n",
    "\n",
    "e,o = even_odd(n)\n",
    "e.sort()\n",
    "o.sort()\n",
    "print(\"even max\",e[-1])\n",
    "print(\"odd max\",o[-1])"
   ]
  },
  {
   "cell_type": "markdown",
   "metadata": {},
   "source": [
    "### 20. "
   ]
  },
  {
   "cell_type": "code",
   "execution_count": 56,
   "metadata": {},
   "outputs": [],
   "source": [
    "def get_digit(n):\n",
    "    dgt = []\n",
    "    count, tp = 0, n\n",
    "    while n > 0:\n",
    "        dgt.append(n%10)\n",
    "        count = count + 1\n",
    "        n = n//10\n",
    "    return count,dgt"
   ]
  },
  {
   "cell_type": "code",
   "execution_count": null,
   "metadata": {},
   "outputs": [],
   "source": [
    "# get_digit(234) # test"
   ]
  },
  {
   "cell_type": "code",
   "execution_count": 57,
   "metadata": {},
   "outputs": [
    {
     "name": "stdout",
     "output_type": "stream",
     "text": [
      "Number ?:153\n",
      "Number is Armstrong\n"
     ]
    }
   ],
   "source": [
    "# wap to check if a number is an ARMSTRONG number\n",
    "n = int(input(\"Number ?:\"))\n",
    "tmp = n\n",
    "sm = 0\n",
    "c, dgts = get_digit(n)\n",
    "for d in dgts:\n",
    "    sm = sm + d**c\n",
    "if sm == tmp:\n",
    "    print(\"Number is Armstrong\")\n",
    "else:\n",
    "    print(\"Number is not Armstrong\")"
   ]
  },
  {
   "cell_type": "markdown",
   "metadata": {},
   "source": [
    "#### TEST for FUN\n"
   ]
  },
  {
   "cell_type": "code",
   "execution_count": 58,
   "metadata": {},
   "outputs": [
    {
     "name": "stdout",
     "output_type": "stream",
     "text": [
      "Infinity\n"
     ]
    }
   ],
   "source": [
    "while 1==1:\n",
    "    print(\"Infinity\")\n",
    "    break # remove this to see the magic"
   ]
  },
  {
   "cell_type": "markdown",
   "metadata": {},
   "source": [
    "# FUNCTION \n",
    "\n",
    "**Function is a block of code which is reusable and perfoms specific task.**"
   ]
  },
  {
   "cell_type": "markdown",
   "metadata": {},
   "source": [
    "#### Syntax \n",
    "\n",
    "    def function(arg1,arg2,....argn):\n",
    "        ''' Documantation of the function '''\n",
    "        ......\n",
    "        # statements here\n",
    "        .....\n",
    "        # more statements here\n",
    "        .....\n",
    "        return value\n",
    "        \n"
   ]
  },
  {
   "cell_type": "code",
   "execution_count": 59,
   "metadata": {
    "scrolled": true
   },
   "outputs": [
    {
     "name": "stdout",
     "output_type": "stream",
     "text": [
      "G 234\n",
      "L 11\n"
     ]
    }
   ],
   "source": [
    "def p():\n",
    "    global x\n",
    "    x = 11\n",
    "    print(\"L\",x)\n",
    "\n",
    "print(\"G\",x)\n",
    "p()"
   ]
  },
  {
   "cell_type": "code",
   "execution_count": 63,
   "metadata": {
    "scrolled": true
   },
   "outputs": [
    {
     "name": "stdout",
     "output_type": "stream",
     "text": [
      "Enter how many times u want to add 2 numbers: 1\n",
      "1: 23\n",
      "2: 2\n",
      "25\n",
      "Hello Vikas\n",
      "write your documentation here\n"
     ]
    }
   ],
   "source": [
    "def add(a,b):\n",
    "    '''Hello Vikas\n",
    "write your documentation here'''\n",
    "    print(a+b)\n",
    "    \n",
    "n = int(input(\"Enter how many times u want to add 2 numbers: \"))\n",
    "for i in range(n):\n",
    "    x = int(input(\"1: \"))\n",
    "    y = int(input(\"2: \"))    \n",
    "    add(x,y)\n",
    "    \n",
    "print(add.__doc__)"
   ]
  },
  {
   "cell_type": "markdown",
   "metadata": {},
   "source": [
    "## CALCULATOR\n"
   ]
  },
  {
   "cell_type": "code",
   "execution_count": null,
   "metadata": {},
   "outputs": [],
   "source": [
    "def get_num():\n",
    "    x = int(input(\"Enter Number 1: \"))\n",
    "    y = int(input(\"Enter Number 2: \"))\n",
    "    return x,y\n",
    "\n",
    "def calculator():\n",
    "    ch = int(input(\"\\n1. Add\\n2. Difference\\n3. Multiply\\n4. Divide\\n0. Exit\\nEnter Your choice: \"))\n",
    "    if ch==1:\n",
    "        x,y = get_num()\n",
    "        print(\"Addition = \",x+y)\n",
    "    elif ch==2:\n",
    "        x,y = get_num()\n",
    "        print(\"Difference = \",x-y)\n",
    "    elif ch==3:\n",
    "        x,y = get_num()\n",
    "        print(\"Multiplication = \",x*y)\n",
    "    elif ch==4:\n",
    "        x,y = get_num()\n",
    "        print(\"Division = \",x/y)\n",
    "    elif ch==0:\n",
    "        print(\"Bye Bye, \\nYou have done nice calculations \")\n",
    "        return ch\n",
    "    else:\n",
    "        print(\"Please choose from the options.\")\n",
    "    return ch\n",
    "\n",
    "# driver code\n",
    "c = 1\n",
    "while(c):\n",
    "    c = calculator()\n"
   ]
  },
  {
   "cell_type": "markdown",
   "metadata": {},
   "source": [
    "# Questions (23/01/2020)\n",
    "old questions [Here](#Questions-(22/01/2020))"
   ]
  },
  {
   "cell_type": "markdown",
   "metadata": {},
   "source": [
    "1. wap to print PASCAL'S TRIANGLE for n rows given by the user [here](#1.-Pascal's-Triangle)\n",
    "2. check Perfect number \n",
    "3. lcm of 2 numbers\n",
    "4. compute a polynomial equation given that the coefficients are stored in a list\n",
    "5. area of a triangle\n",
    "6. find the gravitational force acting between two objects\n",
    "7. find the sum of SIN series\n",
    "8. sum of first n natural numbers\n",
    "9. Calculate:  1+(x^2)/2+(x^3)/3+.....+(x^n)/n\n",
    "10. Euler's numbers"
   ]
  },
  {
   "cell_type": "markdown",
   "metadata": {},
   "source": [
    "### 1. Pascal's Triangle"
   ]
  },
  {
   "cell_type": "code",
   "execution_count": 1,
   "metadata": {
    "scrolled": true
   },
   "outputs": [
    {
     "name": "stdout",
     "output_type": "stream",
     "text": [
      "Enter the number of rows : 5\n",
      "           1\n",
      "         1   1\n",
      "       1   2   1\n",
      "     1   3   3   1\n",
      "   1   4   6   4   1\n"
     ]
    }
   ],
   "source": [
    "rows = int(input(\"Enter the number of rows : \"))\n",
    "for i in range(0, rows):\n",
    "    coff = 1\n",
    "    for j in range(1, rows-i):\n",
    "        print(\"  \", end=\"\")\n",
    "    \n",
    "    for k in range(0, i+1):\n",
    "        print(\"  \", coff, end=\"\")\n",
    "        coff = int(coff * (i - k) / (k + 1))\n",
    "    print()"
   ]
  },
  {
   "cell_type": "markdown",
   "metadata": {},
   "source": [
    "### 2. Perfect Number"
   ]
  },
  {
   "cell_type": "code",
   "execution_count": 3,
   "metadata": {},
   "outputs": [
    {
     "name": "stdout",
     "output_type": "stream",
     "text": [
      "Number?: 6\n",
      "That's a Perfect Number Baby.\n"
     ]
    }
   ],
   "source": [
    "n = int(input(\"Number?: \"))\n",
    "sm, tmp = 0, n\n",
    "for i in range(1,n):\n",
    "    if n%i==0:\n",
    "        sm = sm + i\n",
    "if sm == tmp:\n",
    "    print(\"That's a Perfect Number Baby.\")\n",
    "else:\n",
    "    print(\"Oh uh You've missed a Perfect Number.\")"
   ]
  },
  {
   "cell_type": "markdown",
   "metadata": {},
   "source": [
    "### 3. LCM of 2 numbers"
   ]
  },
  {
   "cell_type": "code",
   "execution_count": 7,
   "metadata": {},
   "outputs": [
    {
     "name": "stdout",
     "output_type": "stream",
     "text": [
      "Number 1 ?: 3\n",
      "Number 2 ?: 6\n",
      "LCM of 3 and 6 is 6\n"
     ]
    }
   ],
   "source": [
    "n1 = int(input(\"Number 1 ?: \"))\n",
    "n2 = int(input(\"Number 2 ?: \"))\n",
    "mx = max(n1,n2)\n",
    "while True:\n",
    "    if mx%n1==0 and mx%n2==0:\n",
    "        print(\"LCM of {1} and {2} is {0}\".format(mx,n1,n2))\n",
    "        break\n",
    "    mx = mx + 1"
   ]
  },
  {
   "cell_type": "markdown",
   "metadata": {},
   "source": [
    "### 4.  Compute Polynomial Equation"
   ]
  },
  {
   "cell_type": "code",
   "execution_count": 4,
   "metadata": {
    "scrolled": true
   },
   "outputs": [
    {
     "name": "stdout",
     "output_type": "stream",
     "text": [
      "Enter coefficients of the polynomial equation(Highest power comes first):1 -5 -6\n",
      "Two solutions are 6 and -1 \n"
     ]
    }
   ],
   "source": [
    "import math as m\n",
    "c = list(map(int,input(\"Enter coefficients of the polynomial equation(Highest power comes first):\").split()))\n",
    "a, b, c = c[0], c[1], c[2]\n",
    "y = pow(b,2)-4*a*c\n",
    "if y<0:\n",
    "    print(\"Imaginary root\")\n",
    "else:\n",
    "    d = m.sqrt(y)\n",
    "    x1 = (-1*b + d)/(2*a)\n",
    "    x2 = (-1*b - d)/(2*a)\n",
    "    print(\"Two solutions are %d and %d \"%(x1,x2))"
   ]
  },
  {
   "cell_type": "markdown",
   "metadata": {},
   "source": [
    "### 5. area of a triangle"
   ]
  },
  {
   "cell_type": "code",
   "execution_count": 6,
   "metadata": {
    "scrolled": true
   },
   "outputs": [
    {
     "name": "stdout",
     "output_type": "stream",
     "text": [
      "Enter height: 2\n",
      "Enter base: 4\n",
      "Area of the triangle is = 4.0\n"
     ]
    }
   ],
   "source": [
    "h = int(input(\"Enter height: \"))\n",
    "b = int(input(\"Enter base: \"))\n",
    "a = h*b/2\n",
    "print(\"Area of the triangle is = {}\".format(a))"
   ]
  },
  {
   "cell_type": "markdown",
   "metadata": {},
   "source": [
    "### 6.  calculate gravitartional force b/w teo objects"
   ]
  },
  {
   "cell_type": "code",
   "execution_count": 16,
   "metadata": {},
   "outputs": [
    {
     "name": "stdout",
     "output_type": "stream",
     "text": [
      "Enter mass of the first object: 1323\n",
      "Enter mass of the second object: 232\n",
      "Enter the distance between the objects: 232\n",
      "The Force between A and B is = 8.82441e-07 N\n"
     ]
    }
   ],
   "source": [
    "G = 6.67e-10 # Universal Gravitational Constant\n",
    "m1 = int(input(\"Enter mass of the first object: \"))\n",
    "m2 = int(input(\"Enter mass of the second object: \"))\n",
    "r = int(input(\"Enter the distance between the objects: \"))\n",
    "F = G*(m1*m2/r)\n",
    "print(\"The Force between A and B is = {} N\".format(F))"
   ]
  },
  {
   "attachments": {
    "sin_series_sum.jpg": {
     "image/jpeg": "[encoded data removed]"
    }
   },
   "cell_type": "markdown",
   "metadata": {},
   "source": [
    "### 7.  find the sum of SINE series\n",
    "the sum of **SINE** series is given by\n",
    "![sin_series_sum.jpg](attachment:sin_series_sum.jpg)\n"
   ]
  },
  {
   "cell_type": "code",
   "execution_count": 19,
   "metadata": {
    "scrolled": true
   },
   "outputs": [
    {
     "name": "stdout",
     "output_type": "stream",
     "text": [
      "Enter the value of N: 1\n",
      "Enter the value of angle X: 90\n",
      "Sum of sin series upto n terms = 0.8939966636005579\n"
     ]
    }
   ],
   "source": [
    "import math as m\n",
    "n = int(input(\"Enter the value of N: \"))\n",
    "x = int(input(\"Enter the value of angle X: \"))\n",
    "\n",
    "sm = (m.cos(x/2)-m.cos((n+0.5)*x))/(2*m.sin(x/2))\n",
    "\n",
    "print(\"Sum of sin series upto n terms =\",sm)"
   ]
  },
  {
   "attachments": {
    "n_num_sum.jpg": {
     "image/jpeg": "[encoded data removed]"
    }
   },
   "cell_type": "markdown",
   "metadata": {},
   "source": [
    "### 8.  Sum of first n natural numbers\n",
    "![n_num_sum.jpg](attachment:n_num_sum.jpg)"
   ]
  },
  {
   "cell_type": "code",
   "execution_count": 21,
   "metadata": {},
   "outputs": [
    {
     "name": "stdout",
     "output_type": "stream",
     "text": [
      "Enter number of terms: 10\n",
      "Sum of first 10 natural numbers = 55\n"
     ]
    }
   ],
   "source": [
    "n = int(input(\"Enter number of terms: \"))\n",
    "s = n*(n+1)//2\n",
    "print(\"Sum of first {} natural numbers = {}\".format(n,s))"
   ]
  },
  {
   "cell_type": "markdown",
   "metadata": {},
   "source": [
    "### 9. Sum of 1+(x^2)/2+(x^3)/3+.....+(x^n)/n "
   ]
  },
  {
   "cell_type": "code",
   "execution_count": 23,
   "metadata": {},
   "outputs": [
    {
     "name": "stdout",
     "output_type": "stream",
     "text": [
      "Enter the number of terms: 2\n",
      "Enter value of X: 2\n",
      "Sum = 3.0\n"
     ]
    }
   ],
   "source": [
    "n = int(input(\"Enter the number of terms: \"))\n",
    "x = int(input(\"Enter value of X: \"))\n",
    "sm = 1\n",
    "for i in range(2,n+1):\n",
    "    sm = sm + x**i/i\n",
    "\n",
    "print(\"Sum =\",sm)"
   ]
  },
  {
   "attachments": {
    "eulers.jpg": {
     "image/jpeg": "[encoded data removed]"
    }
   },
   "cell_type": "markdown",
   "metadata": {},
   "source": [
    "### 10. Euler's Number \n",
    "\n",
    "Euler's number is the sum of \n",
    "![eulers.jpg](attachment:eulers.jpg)"
   ]
  },
  {
   "cell_type": "code",
   "execution_count": 24,
   "metadata": {},
   "outputs": [],
   "source": [
    "# factorial\n",
    "def factorial(n):\n",
    "    if n<=0:\n",
    "        return 1\n",
    "    return n*factorial(n-1)"
   ]
  },
  {
   "cell_type": "code",
   "execution_count": 26,
   "metadata": {},
   "outputs": [
    {
     "name": "stdout",
     "output_type": "stream",
     "text": [
      "Euler's Constant e = 2.7182818284590455\n"
     ]
    }
   ],
   "source": [
    "# euler's number also represented as e\n",
    "e = 0\n",
    "for i in range(21):\n",
    "    e = e + 1/factorial(i)\n",
    "\n",
    "print(\"Euler's Constant e =\",e)"
   ]
  },
  {
   "cell_type": "markdown",
   "metadata": {},
   "source": [
    "### 11. "
   ]
  }
 ],
 "metadata": {
  "kernelspec": {
   "display_name": "Python 3",
   "language": "python",
   "name": "python3"
  },
  "language_info": {
   "codemirror_mode": {
    "name": "ipython",
    "version": 3
   },
   "file_extension": ".py",
   "mimetype": "text/x-python",
   "name": "python",
   "nbconvert_exporter": "python",
   "pygments_lexer": "ipython3",
   "version": "3.7.3"
  }
 },
 "nbformat": 4,
 "nbformat_minor": 2
}
